{
 "cells": [
  {
   "cell_type": "code",
   "execution_count": 4,
   "id": "304f4728-6fdc-486b-a0fa-18db0c80bfb1",
   "metadata": {},
   "outputs": [
    {
     "name": "stdout",
     "output_type": "stream",
     "text": [
      "Lasso CV RMSE: 0.1237\n",
      "Submission file saved as lasso_submission.csv\n"
     ]
    }
   ],
   "source": [
    "# Step 1: Import libraries\n",
    "import pandas as pd\n",
    "import numpy as np\n",
    "import joblib\n",
    "from sklearn.linear_model import Lasso\n",
    "from sklearn.model_selection import cross_val_score\n",
    "\n",
    "# Step 2: Load cleaned training and test data\n",
    "X = pd.read_csv(\"X_train_cleaned.csv\")\n",
    "y = pd.read_csv(\"y_train.csv\").values.ravel()  # Flatten to 1D\n",
    "X_test = pd.read_csv(\"X_test_cleaned.csv\")\n",
    "\n",
    "# Step 3: Define RMSE cross-validation function\n",
    "def rmse_cv(model):\n",
    "    rmse = -cross_val_score(model, X, y, scoring=\"neg_root_mean_squared_error\", cv=5)\n",
    "    return rmse.mean()\n",
    "\n",
    "# Step 4: Train Lasso model with cross-validation\n",
    "lasso = Lasso(alpha=0.001, max_iter=10000)\n",
    "score = rmse_cv(lasso)\n",
    "print(f\"Lasso CV RMSE: {score:.4f}\")\n",
    "\n",
    "# Step 5: Fit and predict\n",
    "lasso.fit(X, y)\n",
    "lasso_preds = lasso.predict(X_test)\n",
    "\n",
    "# Step 6: Convert predictions back from log1p\n",
    "final_preds = np.expm1(lasso_preds)  # If y was log1p transformed\n",
    "\n",
    "joblib.dump(lasso, \"lasso_model.pkl\")\n",
    "# Step 7: Save submission file\n",
    "submission = pd.DataFrame({\n",
    "    \"Id\": np.arange(1461, 1461 + len(final_preds)),\n",
    "    \"SalePrice\": final_preds\n",
    "})\n",
    "submission.to_csv(\"lasso_submission.csv\", index=False)\n",
    "print(\"Submission file saved as lasso_submission.csv\")\n"
   ]
  }
 ],
 "metadata": {
  "kernelspec": {
   "display_name": "Python 3 (ipykernel)",
   "language": "python",
   "name": "python3"
  },
  "language_info": {
   "codemirror_mode": {
    "name": "ipython",
    "version": 3
   },
   "file_extension": ".py",
   "mimetype": "text/x-python",
   "name": "python",
   "nbconvert_exporter": "python",
   "pygments_lexer": "ipython3",
   "version": "3.10.16"
  }
 },
 "nbformat": 4,
 "nbformat_minor": 5
}
