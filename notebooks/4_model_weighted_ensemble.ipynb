{
 "cells": [
  {
   "cell_type": "code",
   "execution_count": 5,
   "id": "95e79d8c-101e-4490-a6ba-8ae4ff2bbf6c",
   "metadata": {},
   "outputs": [
    {
     "name": "stdout",
     "output_type": "stream",
     "text": [
      "[LightGBM] [Warning] Found whitespace in feature_names, replace with underlines\n",
      "[LightGBM] [Info] Auto-choosing row-wise multi-threading, the overhead of testing was 0.002813 seconds.\n",
      "You can set `force_row_wise=true` to remove the overhead.\n",
      "And if memory is not enough, you can set `force_col_wise=true`.\n",
      "[LightGBM] [Info] Total Bins 4187\n",
      "[LightGBM] [Info] Number of data points in the train set: 1460, number of used features: 208\n",
      "[LightGBM] [Info] Start training from score 12.024057\n",
      "Saved as weighted_ensemble_submission.csv\n"
     ]
    }
   ],
   "source": [
    "#!pip install lightgbm\n",
    "# Step 1: Import libraries\n",
    "import pandas as pd\n",
    "import numpy as np\n",
    "from sklearn.linear_model import Ridge, Lasso\n",
    "import xgboost as xgb\n",
    "import lightgbm as lgb\n",
    "\n",
    "# Step 2: Load data\n",
    "X = pd.read_csv(\"X_train_cleaned.csv\")\n",
    "y = pd.read_csv(\"y_train.csv\").values.ravel()\n",
    "X_test = pd.read_csv(\"X_test_cleaned.csv\")\n",
    "\n",
    "# Step 3: Train models\n",
    "ridge = Ridge(alpha=10)\n",
    "lasso = Lasso(alpha=0.001, max_iter=10000)\n",
    "xgb_model = xgb.XGBRegressor(n_estimators=1000, learning_rate=0.05, max_depth=3)\n",
    "lgb_model = lgb.LGBMRegressor(n_estimators=1000, learning_rate=0.05)\n",
    "\n",
    "ridge.fit(X, y)\n",
    "lasso.fit(X, y)\n",
    "xgb_model.fit(X, y)\n",
    "lgb_model.fit(X, y)\n",
    "\n",
    "# Step 4: Predict\n",
    "ridge_preds = ridge.predict(X_test)\n",
    "lasso_preds = lasso.predict(X_test)\n",
    "xgb_preds = xgb_model.predict(X_test)\n",
    "lgb_preds = lgb_model.predict(X_test)\n",
    "\n",
    "# Step 5: Weighted average (adjust weights if needed)\n",
    "ensemble_preds = (\n",
    "    0.2 * ridge_preds +\n",
    "    0.2 * lasso_preds +\n",
    "    0.3 * xgb_preds +\n",
    "    0.3 * lgb_preds\n",
    ")\n",
    "\n",
    "# Step 6: Reverse log1p if needed\n",
    "final_preds = np.expm1(ensemble_preds)\n",
    "\n",
    "# Step 7: Save submission\n",
    "submission = pd.DataFrame({\n",
    "    \"Id\": np.arange(1461, 1461 + len(final_preds)),\n",
    "    \"SalePrice\": final_preds\n",
    "})\n",
    "submission.to_csv(\"weighted_ensemble_submission.csv\", index=False)\n",
    "print(\"Saved as weighted_ensemble_submission.csv\")\n"
   ]
  }
 ],
 "metadata": {
  "kernelspec": {
   "display_name": "Python 3 (ipykernel)",
   "language": "python",
   "name": "python3"
  },
  "language_info": {
   "codemirror_mode": {
    "name": "ipython",
    "version": 3
   },
   "file_extension": ".py",
   "mimetype": "text/x-python",
   "name": "python",
   "nbconvert_exporter": "python",
   "pygments_lexer": "ipython3",
   "version": "3.10.16"
  }
 },
 "nbformat": 4,
 "nbformat_minor": 5
}
