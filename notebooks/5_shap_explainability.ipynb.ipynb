{
 "cells": [
  {
   "cell_type": "code",
   "execution_count": 17,
   "id": "fc7d499d-2b34-445d-a717-041f471be52d",
   "metadata": {},
   "outputs": [
    {
     "name": "stdout",
     "output_type": "stream",
     "text": [
      "Explaining XGBoost using CPU-safe SHAP...\n"
     ]
    },
    {
     "name": "stderr",
     "output_type": "stream",
     "text": [
      "PermutationExplainer explainer: 1460it [01:34, 14.04it/s]                       \n"
     ]
    },
    {
     "name": "stdout",
     "output_type": "stream",
     "text": [
      "XGBoost SHAP plots saved.\n",
      "\n",
      "Explaining Lasso using CPU-safe SHAP...\n"
     ]
    },
    {
     "name": "stderr",
     "output_type": "stream",
     "text": [
      "PermutationExplainer explainer: 1460it [00:48, 23.85it/s]                       \n"
     ]
    },
    {
     "name": "stdout",
     "output_type": "stream",
     "text": [
      "Lasso SHAP plots saved.\n",
      "\n",
      "Explaining Ridge using CPU-safe SHAP...\n"
     ]
    },
    {
     "name": "stderr",
     "output_type": "stream",
     "text": [
      "PermutationExplainer explainer: 1460it [00:48, 23.71it/s]                       \n"
     ]
    },
    {
     "name": "stdout",
     "output_type": "stream",
     "text": [
      "Ridge SHAP plots saved.\n",
      "\n"
     ]
    }
   ],
   "source": [
    "# 5_shap_explainability.ipynb\n",
    "\n",
    "# Step 1: Import libraries\n",
    "import pandas as pd\n",
    "import numpy as np\n",
    "import shap\n",
    "import joblib\n",
    "import matplotlib.pyplot as plt\n",
    "import warnings\n",
    "\n",
    "warnings.filterwarnings(\"ignore\")\n",
    "\n",
    "# Step 2: Load cleaned test data\n",
    "X_test = pd.read_csv(\"X_test_cleaned.csv\")\n",
    "X_test = X_test.astype(float)  # Ensure numeric types only\n",
    "\n",
    "# Step 3: Define a CPU-safe SHAP explanation function\n",
    "def explain_model_cpu(model_path, model_name):\n",
    "    print(f\"Explaining {model_name} using CPU-safe SHAP...\")\n",
    "\n",
    "    # Load trained model\n",
    "    model = joblib.load(model_path)\n",
    "\n",
    "    # Create SHAP explainer using model.predict\n",
    "    explainer = shap.Explainer(model.predict, X_test)\n",
    "\n",
    "    # Compute SHAP values\n",
    "    shap_values = explainer(X_test)\n",
    "\n",
    "    # Summary plot\n",
    "    shap.summary_plot(shap_values, X_test, show=False)\n",
    "    plt.title(f\"{model_name} - SHAP Summary\")\n",
    "    plt.tight_layout()\n",
    "    plt.savefig(f\"{model_name}_shap_summary.png\")\n",
    "    plt.close()\n",
    "\n",
    "    # Waterfall plot for the first sample\n",
    "    shap.plots.waterfall(shap_values[0], show=False)\n",
    "    plt.title(f\"{model_name} - SHAP Waterfall (Sample 0)\")\n",
    "    plt.tight_layout()\n",
    "    plt.savefig(f\"{model_name}_shap_waterfall.png\")\n",
    "    plt.close()\n",
    "\n",
    "    print(f\"{model_name} SHAP plots saved.\\n\")\n",
    "\n",
    "# Step 4: Explain all models\n",
    "explain_model_cpu(\"xgboost_model.pkl\", \"XGBoost\")\n",
    "explain_model_cpu(\"lasso_model.pkl\", \"Lasso\")\n",
    "explain_model_cpu(\"ridge_model.pkl\", \"Ridge\")\n"
   ]
  }
 ],
 "metadata": {
  "kernelspec": {
   "display_name": "Python 3 (ipykernel)",
   "language": "python",
   "name": "python3"
  },
  "language_info": {
   "codemirror_mode": {
    "name": "ipython",
    "version": 3
   },
   "file_extension": ".py",
   "mimetype": "text/x-python",
   "name": "python",
   "nbconvert_exporter": "python",
   "pygments_lexer": "ipython3",
   "version": "3.10.16"
  }
 },
 "nbformat": 4,
 "nbformat_minor": 5
}
