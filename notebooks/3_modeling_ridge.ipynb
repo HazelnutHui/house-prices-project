{
 "cells": [
  {
   "cell_type": "code",
   "execution_count": 14,
   "id": "466d099f-6eb7-4123-a4c6-51673fe7fbc7",
   "metadata": {},
   "outputs": [
    {
     "name": "stdout",
     "output_type": "stream",
     "text": [
      "Ridge CV RMSE: 0.1273\n",
      "Submission file saved as ridge_submission.csv\n"
     ]
    }
   ],
   "source": [
    "# Step 1: Import libraries\n",
    "import pandas as pd\n",
    "import numpy as np\n",
    "from sklearn.linear_model import Ridge\n",
    "from sklearn.model_selection import cross_val_score\n",
    "from sklearn.metrics import mean_squared_error\n",
    "\n",
    "# Step 2: Read processed data\n",
    "X = pd.read_csv(\"X_train_cleaned.csv\")\n",
    "y = pd.read_csv(\"y_train.csv\").values.ravel()  # flatten to 1D\n",
    "X_test = pd.read_csv(\"X_test_cleaned.csv\")\n",
    "\n",
    "# Step 3: Define a RMSE cross-validation function\n",
    "def rmse_cv(model):\n",
    "    rmse = -cross_val_score(model, X, y, scoring=\"neg_root_mean_squared_error\", cv=5)\n",
    "    return rmse.mean()\n",
    "\n",
    "# Step 4: Train Ridge baseline model\n",
    "ridge = Ridge(alpha=10)\n",
    "score = rmse_cv(ridge)\n",
    "print(f\"Ridge CV RMSE: {score:.4f}\")\n",
    "\n",
    "# Step 5: Fit and predict\n",
    "ridge.fit(X, y)\n",
    "ridge_preds = ridge.predict(X_test)\n",
    "\n",
    "# Step 6: Convert predictions back from log1p if needed\n",
    "# (Only do this if your y_train is in log1p form!)\n",
    "final_preds = np.expm1(ridge_preds)  # if y = log1p(SalePrice)\n",
    "\n",
    "# Step 7: Generate submission file\n",
    "submission = pd.DataFrame({\n",
    "    \"Id\": np.arange(1461, 1461 + len(final_preds)),  # test.csv starts from 1461\n",
    "    \"SalePrice\": final_preds\n",
    "})\n",
    "submission.to_csv(\"ridge_submission.csv\", index=False)\n",
    "print(\"Submission file saved as ridge_submission.csv\")\n"
   ]
  }
 ],
 "metadata": {
  "kernelspec": {
   "display_name": "Python 3 (ipykernel)",
   "language": "python",
   "name": "python3"
  },
  "language_info": {
   "codemirror_mode": {
    "name": "ipython",
    "version": 3
   },
   "file_extension": ".py",
   "mimetype": "text/x-python",
   "name": "python",
   "nbconvert_exporter": "python",
   "pygments_lexer": "ipython3",
   "version": "3.10.16"
  }
 },
 "nbformat": 4,
 "nbformat_minor": 5
}
