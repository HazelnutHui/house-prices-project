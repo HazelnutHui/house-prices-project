{
 "cells": [
  {
   "cell_type": "code",
   "execution_count": 14,
   "id": "1f758dbe-efdf-488f-81e2-38ab5a2a6078",
   "metadata": {},
   "outputs": [
    {
     "name": "stdout",
     "output_type": "stream",
     "text": [
      "XGBoost CV RMSE: 0.1208\n",
      "Saved as xgb_submission.csv\n"
     ]
    }
   ],
   "source": [
    "# Step 1: Import libraries\n",
    "import pandas as pd\n",
    "import numpy as np\n",
    "import xgboost as xgb\n",
    "import joblib\n",
    "from sklearn.model_selection import cross_val_score\n",
    "\n",
    "\n",
    "# Step 2: Load cleaned data\n",
    "X = pd.read_csv(\"X_train_cleaned.csv\")\n",
    "y = pd.read_csv(\"y_train.csv\").values.ravel()\n",
    "X_test = pd.read_csv(\"X_test_cleaned.csv\")\n",
    "\n",
    "# Step 3: Define CV RMSE function\n",
    "def rmse_cv(model):\n",
    "    rmse = -cross_val_score(model, X, y, scoring=\"neg_root_mean_squared_error\", cv=5)\n",
    "    return rmse.mean()\n",
    "\n",
    "# Step 4: Train XGBoost regressor\n",
    "xgb_model = xgb.XGBRegressor(\n",
    "    n_estimators=500,\n",
    "    learning_rate=0.05,\n",
    "    max_depth=3,\n",
    "    subsample=0.8,\n",
    "    colsample_bytree=0.8,\n",
    "    random_state=42\n",
    ")\n",
    "\n",
    "# Step 5: Evaluate with CV\n",
    "score = rmse_cv(xgb_model)\n",
    "print(f\"XGBoost CV RMSE: {score:.4f}\")\n",
    "\n",
    "# Step 6: Fit full data and predict\n",
    "xgb_model.fit(X, y)\n",
    "\n",
    "xgb_preds_log = xgb_model.predict(X_test)      \n",
    "final_preds = np.expm1(xgb_preds_log)  \n",
    "\n",
    "joblib.dump(xgb_model, 'xgboost_model.pkl') \n",
    "\n",
    "# Step 7: Save submission\n",
    "submission = pd.DataFrame({\n",
    "    \"Id\": np.arange(1461, 1461 + len(final_preds)),\n",
    "    \"SalePrice\": final_preds\n",
    "})\n",
    "submission.to_csv(\"xgb_submission.csv\", index=False)\n",
    "print(\"Saved as xgb_submission.csv\")"
   ]
  }
 ],
 "metadata": {
  "kernelspec": {
   "display_name": "Python 3 (ipykernel)",
   "language": "python",
   "name": "python3"
  },
  "language_info": {
   "codemirror_mode": {
    "name": "ipython",
    "version": 3
   },
   "file_extension": ".py",
   "mimetype": "text/x-python",
   "name": "python",
   "nbconvert_exporter": "python",
   "pygments_lexer": "ipython3",
   "version": "3.10.16"
  }
 },
 "nbformat": 4,
 "nbformat_minor": 5
}
